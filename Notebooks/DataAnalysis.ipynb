{
 "cells": [
  {
   "cell_type": "markdown",
   "id": "e5ae0f83",
   "metadata": {},
   "source": [
    "# Análisis del viroma arqueal\n",
    "\n",
    "---\n",
    "\n",
    "> Los virus que infectan arqueas, conocidos colectivamente como viroma arqueal, representan una de las ramas menos exploradas de la virosfera. \n",
    "> Durante décadas, el estudio de estos virus se ha centrado en ambientes extremos como fuentes hidrotermales, salares o ambientes anaerobios, donde se ha \n",
    "> observado una enorme diversidad morfológica, genómica y evolutiva. Sin embargo, el conocimiento sobre el viroma arqueal sigue fragmentado y disperso, \n",
    "> limitado por desafíos técnicos en su aislamiento, escasa representación en bases de datos virales y una nomenclatura taxonómica aún en desarrollo\n",
    "\n",
    "---\n",
    "## Objetivo:\n",
    "\n",
    "---\n",
    "\n",
    "Este proyecto tiene como objetivo realizar una recopilación sistemática y un análisis bibliométrico de la literatura científica relacionada con el viroma arqueal, haciendo énfasis en los tipos virales descritos, sus mecanismos de infección, estructuras genómicas y relaciones evolutivas con otros virus y hospedadores."
   ]
  },
  {
   "cell_type": "markdown",
   "id": "1e13f530",
   "metadata": {},
   "source": [
    "\n",
    "### Claves (Variables) de Pubmed\n",
    "\n",
    "| Clave | Descripción |\n",
    "| ------------ | ------------ |\n",
    "| PMID | PubMed ID único del artículo |\n",
    "| TI | Título del artículo |\n",
    "| AB | Abstract (resumen) |\n",
    "| AU | Autores (lista) |\n",
    "| DFAU | Autores con nombre completo |\n",
    "| AD | Dirección de los autores (afiliaciones) |\n",
    "| DP | Fecha de publicación (año o año/mes/día) |\n",
    "| TA | Título abreviado de la revista |\n",
    "| JT | Nombre completo de la revista |\n",
    "| PL | País de publicación |\n",
    "| MH | Términos MeSH (Medical Subject Headings) |\n",
    "| PT | Tipo de publicación |\n",
    "| VI | Volumen de la revista |\n",
    "| IP | Número (issue) de la revista |\n",
    "| PG | Páginas |\n",
    "| LID | DOI o identificador del artículo |\n",
    "| EDAT | Fecha de entrada en PubMed |\n",
    "| PHST | Fechas importantes (recibido, aceptado, publicado online) |\n",
    "| LANG | Idioma |\n",
    "| SO | Fuente completa (revista + año + volumen + páginas) |\n"
   ]
  },
  {
   "cell_type": "code",
   "execution_count": 5,
   "id": "3a941815",
   "metadata": {},
   "outputs": [
    {
     "name": "stdout",
     "output_type": "stream",
     "text": [
      "515\n",
      "dict_keys(['PMID', 'OWN', 'STAT', 'LR', 'IS', 'DP', 'TI', 'PG', 'LID', 'AB', 'FAU', 'AU', 'AUID', 'AD', 'LA', 'PT', 'DEP', 'PL', 'TA', 'JT', 'JID', 'SB', 'OTO', 'OT', 'EDAT', 'MHDA', 'CRDT', 'PHST', 'AID', 'PST', 'SO'])\n"
     ]
    }
   ],
   "source": [
    "from Bio import Medline\n",
    "import pandas as pd\n",
    "import matplotlib.pyplot as plt\n",
    "import os\n",
    "\n",
    "main_directory = os.getenv(\"VIRUS_DIR_PATH\")\n",
    "output_file = os.path.join(main_directory, \"pubmed_out.txt\")\n",
    "\n",
    "#--> Leer el archivo .txt en formato MEDLINE -->\n",
    "\n",
    "with open(output_file, 'r', encoding=\"utf-8\") as handle:\n",
    "    records = Medline.parse(handle)\n",
    "    records = list(records)\n",
    "print(len(records))\n",
    "print(records[0].keys())\n",
    "\n",
    "\n"
   ]
  },
  {
   "cell_type": "code",
   "execution_count": null,
   "id": "2cc104c3",
   "metadata": {},
   "outputs": [
    {
     "name": "stdout",
     "output_type": "stream",
     "text": [
      "         PMID                                                 TI  \\\n",
      "0    40981431  The infection cycle of the haloarchaeal virus ...   \n",
      "1    40749557  Unravelling DNA viral communities involved in ...   \n",
      "2    40721520                          Hunting archaeal viruses.   \n",
      "3    40711890  Summary of taxonomy changes ratified by the In...   \n",
      "4    40680112  Insights into the spool-like architecture and ...   \n",
      "..        ...                                                ...   \n",
      "510  10430570  Genetic requirements for the function of the a...   \n",
      "511   9765495  His1, an archaeal virus of the Fuselloviridae ...   \n",
      "512   9497317  Biochemical and phylogenetic characterization ...   \n",
      "513   9044293  Characterization of Natronobacterium magadii p...   \n",
      "514   8483447  SSV1-encoded site-specific recombination syste...   \n",
      "\n",
      "                                                    AU           DP  \\\n",
      "0    [Schwarzer S, Backer LE, Nijland JG, Hayani Aj...  2025 Sep 22   \n",
      "1              [Zhu K, Shi Z, Zhang Y, Zhang S, Luo G]     2025 Sep   \n",
      "2                                           [Quax TEF]  2025 Jul 28   \n",
      "3    [Krupovic M, Baquero DP, Bignon EA, Bize A, Bo...     2025 Jul   \n",
      "4    [Zhang H, Wang H, Li Y, Fan Y, Zhang Z, Chen H...  2025 Jul 18   \n",
      "..                                                 ...          ...   \n",
      "510        [Stedman KM, Schleper C, Rumpf E, Zillig W]     1999 Aug   \n",
      "511                           [Bath C, Dyall-Smith ML]     1998 Nov   \n",
      "512  [Prangishvili D, Klenk HP, Jakobs G, Schmieche...  1998 Mar 13   \n",
      "513  [Witte A, Baranyi U, Klein R, Sulzner M, Luo C...     1997 Feb   \n",
      "514               [Muskhelishvili G, Palm P, Zillig W]     1993 Mar   \n",
      "\n",
      "                                      JT  \\\n",
      "0                               mSystems   \n",
      "1    Journal of environmental management   \n",
      "2           Nature reviews. Microbiology   \n",
      "3        The Journal of general virology   \n",
      "4                       Science advances   \n",
      "..                                   ...   \n",
      "510                             Genetics   \n",
      "511                  Journal of virology   \n",
      "512  The Journal of biological chemistry   \n",
      "513               Molecular microbiology   \n",
      "514   Molecular & general genetics : MGG   \n",
      "\n",
      "                                                    AB  \n",
      "0    Although viruses have been shown to infect all...  \n",
      "1    Anaerobic digestion (AD) is a key method for t...  \n",
      "2                                                  NaN  \n",
      "3    The International Committee on Taxonomy of Vir...  \n",
      "4    Archaeal viruses are well known for their dive...  \n",
      "..                                                 ...  \n",
      "510  Directed open reading frame (ORF) disruption a...  \n",
      "511  A novel archaeal virus, His1, was isolated fro...  \n",
      "512  The derived amino acid sequence from a 474-bas...  \n",
      "513  A novel archaeal bacteriophage, phi Ch1, was i...  \n",
      "514  We present evidence for the existence of a con...  \n",
      "\n",
      "[515 rows x 6 columns]\n"
     ]
    }
   ],
   "source": [
    "viral_df = pd.DataFrame(records)\n",
    "viral_df = viral_df[[\"PMID\", \"TI\", \"AU\", \"DP\", \"JT\", \"AB\"]]\n",
    "\n",
    "\n",
    "print(viral_df.head())\n"
   ]
  }
 ],
 "metadata": {
  "kernelspec": {
   "display_name": "bio-env",
   "language": "python",
   "name": "python3"
  },
  "language_info": {
   "codemirror_mode": {
    "name": "ipython",
    "version": 3
   },
   "file_extension": ".py",
   "mimetype": "text/x-python",
   "name": "python",
   "nbconvert_exporter": "python",
   "pygments_lexer": "ipython3",
   "version": "3.12.11"
  }
 },
 "nbformat": 4,
 "nbformat_minor": 5
}
