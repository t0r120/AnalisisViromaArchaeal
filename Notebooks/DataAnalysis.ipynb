{
 "cells": [
  {
   "cell_type": "markdown",
   "id": "e5ae0f83",
   "metadata": {},
   "source": [
    "# Análisis del viroma arqueal\n",
    "\n",
    "---\n",
    "\n",
    "> Los virus que infectan arqueas, conocidos colectivamente como viroma arqueal, representan una de las ramas menos exploradas de la virosfera. \n",
    "> Durante décadas, el estudio de estos virus se ha centrado en ambientes extremos como fuentes hidrotermales, salares o ambientes anaerobios, donde se ha \n",
    "> observado una enorme diversidad morfológica, genómica y evolutiva. Sin embargo, el conocimiento sobre el viroma arqueal sigue fragmentado y disperso, \n",
    "> limitado por desafíos técnicos en su aislamiento, escasa representación en bases de datos virales y una nomenclatura taxonómica aún en desarrollo\n",
    "\n",
    "---\n",
    "## Objetivo:\n",
    "\n",
    "---\n",
    "\n",
    "Este proyecto tiene como objetivo realizar una recopilación sistemática y un análisis bibliométrico de la literatura científica relacionada con el viroma arqueal, haciendo énfasis en los tipos virales descritos, sus mecanismos de infección, estructuras genómicas y relaciones evolutivas con otros virus y hospedadores."
   ]
  },
  {
   "cell_type": "markdown",
   "id": "1e13f530",
   "metadata": {},
   "source": [
    "\n",
    "### Claves (Variables) de Pubmed\n",
    "\n",
    "| Clave | Descripción |\n",
    "| ------------ | ------------ |\n",
    "| PMID | PubMed ID único del artículo |\n",
    "| TI | Título del artículo |\n",
    "| AB | Abstract (resumen) |\n",
    "| AU | Autores (lista) |\n",
    "| DFAU | Autores con nombre completo |\n",
    "| AD | Dirección de los autores (afiliaciones) |\n",
    "| DP | Fecha de publicación (año o año/mes/día) |\n",
    "| TA | Título abreviado de la revista |\n",
    "| JT | Nombre completo de la revista |\n",
    "| PL | País de publicación |\n",
    "| MH | Términos MeSH (Medical Subject Headings) |\n",
    "| PT | Tipo de publicación |\n",
    "| VI | Volumen de la revista |\n",
    "| IP | Número (issue) de la revista |\n",
    "| PG | Páginas |\n",
    "| LID | DOI o identificador del artículo |\n",
    "| EDAT | Fecha de entrada en PubMed |\n",
    "| PHST | Fechas importantes (recibido, aceptado, publicado online) |\n",
    "| LANG | Idioma |\n",
    "| SO | Fuente completa (revista + año + volumen + páginas) |\n"
   ]
  },
  {
   "cell_type": "code",
   "execution_count": 52,
   "id": "3a941815",
   "metadata": {},
   "outputs": [
    {
     "name": "stdout",
     "output_type": "stream",
     "text": [
      "515\n",
      "dict_keys(['PMID', 'OWN', 'STAT', 'LR', 'IS', 'DP', 'TI', 'PG', 'LID', 'AB', 'FAU', 'AU', 'AUID', 'AD', 'LA', 'PT', 'DEP', 'PL', 'TA', 'JT', 'JID', 'SB', 'OTO', 'OT', 'EDAT', 'MHDA', 'CRDT', 'PHST', 'AID', 'PST', 'SO'])\n"
     ]
    }
   ],
   "source": [
    "from Bio import Medline\n",
    "import pandas as pd\n",
    "import matplotlib.pyplot as plt\n",
    "import numpy as np\n",
    "import seaborn as sns\n",
    "import re\n",
    "import os\n",
    "\n",
    "main_directory = os.getenv(\"VIRUS_DIR_PATH\")\n",
    "output_file = os.path.join(main_directory, \"pubmed_out.txt\")\n",
    "\n",
    "#--> Leer el archivo .txt en formato MEDLINE -->\n",
    "\n",
    "with open(output_file, 'r', encoding=\"utf-8\") as handle:\n",
    "    records = Medline.parse(handle)\n",
    "    records = list(records)\n",
    "print(len(records))\n",
    "print(records[0].keys())\n",
    "\n",
    "\n"
   ]
  },
  {
   "cell_type": "code",
   "execution_count": 32,
   "id": "2cc104c3",
   "metadata": {},
   "outputs": [
    {
     "name": "stdout",
     "output_type": "stream",
     "text": [
      "       PMID  OWN                                                 TI  \\\n",
      "0  40981431  NLM  The infection cycle of the haloarchaeal virus ...   \n",
      "1  40749557  NLM  Unravelling DNA viral communities involved in ...   \n",
      "2  40721520  NLM                          Hunting archaeal viruses.   \n",
      "3  40711890  NLM  Summary of taxonomy changes ratified by the In...   \n",
      "4  40680112  NLM  Insights into the spool-like architecture and ...   \n",
      "\n",
      "                                                  AU  \\\n",
      "0  [Schwarzer S, Backer LE, Nijland JG, Hayani Aj...   \n",
      "1            [Zhu K, Shi Z, Zhang Y, Zhang S, Luo G]   \n",
      "2                                         [Quax TEF]   \n",
      "3  [Krupovic M, Baquero DP, Bignon EA, Bize A, Bo...   \n",
      "4  [Zhang H, Wang H, Li Y, Fan Y, Zhang Z, Chen H...   \n",
      "\n",
      "                                                  AD           DP     LA  \\\n",
      "0  [Department of Molecular Microbiology, Groning...  2025 Sep 22  [eng]   \n",
      "1  [Shanghai Key Laboratory of Atmospheric Partic...     2025 Sep  [eng]   \n",
      "2  [Groningen Biomolecular Sciences and Biotechno...  2025 Jul 28  [eng]   \n",
      "3  [Institut Pasteur, Universite Paris Cite, CNRS...     2025 Jul  [eng]   \n",
      "4  [Key Laboratory of Epigenetic Regulation and I...  2025 Jul 18  [eng]   \n",
      "\n",
      "                  PT                                   JT  \\\n",
      "0  [Journal Article]                             mSystems   \n",
      "1  [Journal Article]  Journal of environmental management   \n",
      "2  [Journal Article]         Nature reviews. Microbiology   \n",
      "3  [Journal Article]      The Journal of general virology   \n",
      "4  [Journal Article]                     Science advances   \n",
      "\n",
      "                                                  AB              EDAT  \n",
      "0  Although viruses have been shown to infect all...  2025/09/22 12:46  \n",
      "1  Anaerobic digestion (AD) is a key method for t...  2025/08/02 10:44  \n",
      "2                                                NaN  2025/07/29 00:58  \n",
      "3  The International Committee on Taxonomy of Vir...  2025/07/25 18:26  \n",
      "4  Archaeal viruses are well known for their dive...  2025/07/18 18:29  \n"
     ]
    }
   ],
   "source": [
    "viral_df = pd.DataFrame(records)\n",
    "viral_df = viral_df[[\"PMID\", \"OWN\", \"TI\", \"AU\", \"AD\", \"DP\", \"LA\", \"PT\", \"JT\", \"AB\", \"EDAT\"]]\n",
    "\n",
    "\n",
    "print(viral_df.head(5))\n"
   ]
  },
  {
   "cell_type": "code",
   "execution_count": 33,
   "id": "e72f9302",
   "metadata": {},
   "outputs": [
    {
     "data": {
      "image/png": "[encoded data removed]",
      "text/plain": [
       "<Figure size 640x480 with 1 Axes>"
      ]
     },
     "metadata": {},
     "output_type": "display_data"
    }
   ],
   "source": [
    "viral_df[\"Year\"] = viral_df[\"DP\"].str.extract(r\"(\\d{4})\").astype(float)\n",
    "\n",
    "# Graficar histograma\n",
    "\n",
    "sns.histplot(data=viral_df, x=\"Year\", bins=30, kde=True)\n",
    "plt.title(\"Distribución de publicaciones por año\")\n",
    "plt.show()\n",
    "\n"
   ]
  },
  {
   "cell_type": "code",
   "execution_count": 54,
   "id": "de870940",
   "metadata": {},
   "outputs": [
    {
     "name": "stdout",
     "output_type": "stream",
     "text": [
      "<class 'pandas.core.frame.DataFrame'>\n",
      "RangeIndex: 515 entries, 0 to 514\n",
      "Data columns (total 12 columns):\n",
      " #   Column  Non-Null Count  Dtype  \n",
      "---  ------  --------------  -----  \n",
      " 0   PMID    515 non-null    object \n",
      " 1   OWN     515 non-null    object \n",
      " 2   TI      515 non-null    object \n",
      " 3   AU      515 non-null    object \n",
      " 4   AD      512 non-null    object \n",
      " 5   DP      515 non-null    object \n",
      " 6   LA      515 non-null    object \n",
      " 7   PT      515 non-null    object \n",
      " 8   JT      515 non-null    object \n",
      " 9   AB      503 non-null    object \n",
      " 10  EDAT    515 non-null    object \n",
      " 11  Year    515 non-null    float64\n",
      "dtypes: float64(1), object(11)\n",
      "memory usage: 48.4+ KB\n"
     ]
    }
   ],
   "source": [
    "viral_df.info()"
   ]
  },
  {
   "cell_type": "code",
   "execution_count": null,
   "id": "8f99705b",
   "metadata": {},
   "outputs": [
    {
     "name": "stdout",
     "output_type": "stream",
     "text": [
      "<class 'pandas.core.series.Series'>\n"
     ]
    }
   ],
   "source": [
    "authors_count = viral_df[\"AU\"].value_counts()\n"
   ]
  }
 ],
 "metadata": {
  "kernelspec": {
   "display_name": "bio-env",
   "language": "python",
   "name": "python3"
  },
  "language_info": {
   "codemirror_mode": {
    "name": "ipython",
    "version": 3
   },
   "file_extension": ".py",
   "mimetype": "text/x-python",
   "name": "python",
   "nbconvert_exporter": "python",
   "pygments_lexer": "ipython3",
   "version": "3.12.11"
  }
 },
 "nbformat": 4,
 "nbformat_minor": 5
}
